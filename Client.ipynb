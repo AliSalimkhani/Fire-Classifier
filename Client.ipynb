{
 "cells": [
  {
   "cell_type": "code",
   "execution_count": 4,
   "id": "a179aaba-26dc-47c7-987c-3cc1f6ad3beb",
   "metadata": {},
   "outputs": [],
   "source": [
    "import cv2\n",
    "import numpy as np\n",
    "from joblib import load \n",
    "import glob"
   ]
  },
  {
   "cell_type": "code",
   "execution_count": 5,
   "id": "21aedfaa-9e72-4476-9205-e1c2c6f85f5a",
   "metadata": {},
   "outputs": [
    {
     "name": "stderr",
     "output_type": "stream",
     "text": [
      "C:\\Users\\ASUS\\AppData\\Local\\Programs\\Python\\Python312\\Lib\\site-packages\\sklearn\\base.py:380: InconsistentVersionWarning: Trying to unpickle estimator KNeighborsClassifier from version 1.2.2 when using version 1.6.0. This might lead to breaking code or invalid results. Use at your own risk. For more info please refer to:\n",
      "https://scikit-learn.org/stable/model_persistence.html#security-maintainability-limitations\n",
      "  warnings.warn(\n"
     ]
    }
   ],
   "source": [
    "clf = load(\"fire_classifier.z\")"
   ]
  },
  {
   "cell_type": "code",
   "execution_count": 14,
   "id": "7ff4eaf8-7a2d-4018-b461-1c10bddd9346",
   "metadata": {},
   "outputs": [],
   "source": [
    "for address in glob.glob(r\"test/*\"):\n",
    "    img = cv2.imread(address)\n",
    "    img_r = cv2.resize(img, (64,64))\n",
    "    img_r = img_r / 255.0\n",
    "    img_r = img_r.flatten()\n",
    "    img_r = np.array([img_r])\n",
    "\n",
    "    predict = clf.predict(img_r)[0]\n",
    "    cv2.putText(img , str(predict) , (100,100) , cv2.FONT_HERSHEY_SIMPLEX, 2 , (255,255,255) , 2)\n",
    "    cv2.imshow(\"image\" , img)\n",
    "    cv2.waitKey(0)"
   ]
  },
  {
   "cell_type": "code",
   "execution_count": null,
   "id": "80423eeb-9e83-443d-8335-015cd230d44a",
   "metadata": {},
   "outputs": [],
   "source": []
  }
 ],
 "metadata": {
  "kernelspec": {
   "display_name": "Python 3 (ipykernel)",
   "language": "python",
   "name": "python3"
  },
  "language_info": {
   "codemirror_mode": {
    "name": "ipython",
    "version": 3
   },
   "file_extension": ".py",
   "mimetype": "text/x-python",
   "name": "python",
   "nbconvert_exporter": "python",
   "pygments_lexer": "ipython3",
   "version": "3.12.0"
  }
 },
 "nbformat": 4,
 "nbformat_minor": 5
}
